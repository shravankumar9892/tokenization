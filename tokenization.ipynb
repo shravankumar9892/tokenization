{
  "nbformat": 4,
  "nbformat_minor": 0,
  "metadata": {
    "colab": {
      "name": "tokenization.ipynb",
      "version": "0.3.2",
      "provenance": [],
      "include_colab_link": true
    },
    "kernelspec": {
      "display_name": "Python 3",
      "language": "python",
      "name": "python3"
    }
  },
  "cells": [
    {
      "cell_type": "markdown",
      "metadata": {
        "id": "view-in-github",
        "colab_type": "text"
      },
      "source": [
        "<a href=\"https://colab.research.google.com/github/shravankumar9892/tokenization/blob/master/tokenization.ipynb\" target=\"_parent\"><img src=\"https://colab.research.google.com/assets/colab-badge.svg\" alt=\"Open In Colab\"/></a>"
      ]
    },
    {
      "metadata": {
        "id": "UGoh_zqO4oXI",
        "colab_type": "text"
      },
      "cell_type": "markdown",
      "source": [
        "# Tokeniztion\n",
        "\n",
        "***According to Wikipedia:***\n",
        "     Tokenization is the process of breaking a stream of text up into words, phrases, symbols, or other meaningful elements called tokens. The list of tokens becomes input for further processing such as [parsing](https://en.wikipedia.org/wiki/Parsing) or [text mining](https://en.wikipedia.org/wiki/Text_mining). Tokenization is useful both in linguistics (where it is a form of text segmentation), and in computer science, where it forms part of lexical analysis\n",
        "     \n",
        "**For more details:** [IBM](https://www.ibm.com/developerworks/community/blogs/nlp/entry/tokenization?lang=en)     "
      ]
    },
    {
      "metadata": {
        "id": "G0H8wbku4oXL",
        "colab_type": "code",
        "colab": {}
      },
      "cell_type": "code",
      "source": [
        "import collections\n",
        "import unicodedata"
      ],
      "execution_count": 0,
      "outputs": []
    },
    {
      "metadata": {
        "id": "UZFsKl1B4oXR",
        "colab_type": "code",
        "colab": {}
      },
      "cell_type": "code",
      "source": [
        "#@title Encoding/Decoding { run: \"auto\", display-mode: \"form\" }\n",
        "from_ = \"unicode\" #@param {type:\"string\"}\n",
        "to_ = \"text\" #@param {type:\"string\"}\n",
        "text = \"\" #@param {type:\"string\"}\n",
        "\n",
        "\n",
        "''' Cell Documentation'''\n",
        "# Text is assumed to be in utf-8\n",
        "# Compatible for Python3\n",
        "# The isinstance() function checks if the object (first argument) \n",
        "# is an instance or subclass of classinfo class (second argument)\n",
        "\n",
        "\n",
        "def unicode_text(string = text, a = from_, b = to_):\n",
        "    if a == b:\n",
        "      return string\n",
        "    else:\n",
        "        if (isinstance(string, str) and b == \"text\") and (not isinstance(string, str) and b != \"text\"):\n",
        "            return string\n",
        "        elif not isinstance(string, str) and b == \"text\":\n",
        "            return string.decode(encoding = \"utf-8\", errors = \"ignore\")\n",
        "        elif isinstance(string, str) and b != \"text\":\n",
        "            return (string.encode('utf-8','strict')).decode('UTF-8')\n",
        "        else:\n",
        "            raise ValueError(\"Unsupported string type: %s\" % (type(text)))"
      ],
      "execution_count": 0,
      "outputs": []
    }
  ]
}