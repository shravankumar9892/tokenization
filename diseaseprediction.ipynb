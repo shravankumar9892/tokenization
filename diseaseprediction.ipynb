{
  "nbformat": 4,
  "nbformat_minor": 0,
  "metadata": {
    "colab": {
      "name": "diseaseprediction.ipynb",
      "version": "0.3.2",
      "provenance": [],
      "collapsed_sections": [],
      "include_colab_link": true
    },
    "kernelspec": {
      "name": "python3",
      "display_name": "Python 3"
    }
  },
  "cells": [
    {
      "cell_type": "markdown",
      "metadata": {
        "id": "view-in-github",
        "colab_type": "text"
      },
      "source": [
        "<a href=\"https://colab.research.google.com/github/shravankumar9892/tokenization/blob/master/diseaseprediction.ipynb\" target=\"_parent\"><img src=\"https://colab.research.google.com/assets/colab-badge.svg\" alt=\"Open In Colab\"/></a>"
      ]
    },
    {
      "cell_type": "code",
      "metadata": {
        "id": "wuCNVAmtY6JQ",
        "colab_type": "code",
        "outputId": "ae714e7a-6c9a-4447-e197-2300d39dd69f",
        "colab": {
          "base_uri": "https://localhost:8080/",
          "height": 34
        }
      },
      "source": [
        "!pip --version"
      ],
      "execution_count": 181,
      "outputs": [
        {
          "output_type": "stream",
          "text": [
            "pip 19.1.1 from /usr/local/lib/python3.6/dist-packages/pip (python 3.6)\n"
          ],
          "name": "stdout"
        }
      ]
    },
    {
      "cell_type": "code",
      "metadata": {
        "id": "HT2DmIJBZD22",
        "colab_type": "code",
        "colab": {}
      },
      "source": [
        "!pip install -q tensorflow-gpu==2.0.0-beta1"
      ],
      "execution_count": 0,
      "outputs": []
    },
    {
      "cell_type": "code",
      "metadata": {
        "id": "gqsngvy8ZlZt",
        "colab_type": "code",
        "colab": {}
      },
      "source": [
        "import tensorflow as tf\n",
        "from tensorflow import keras\n",
        "import matplotlib.pyplot as plt\n",
        "import numpy as np\n",
        "from nltk.tokenize import TweetTokenizer"
      ],
      "execution_count": 0,
      "outputs": []
    },
    {
      "cell_type": "code",
      "metadata": {
        "id": "WxbVkyc1J7n5",
        "colab_type": "code",
        "colab": {}
      },
      "source": [
        "(train_data, train_label), (test_data, test_label) = keras.datasets.imdb.load_data(num_words=2000)"
      ],
      "execution_count": 0,
      "outputs": []
    },
    {
      "cell_type": "code",
      "metadata": {
        "id": "dUW3jb9KKTKv",
        "colab_type": "code",
        "colab": {}
      },
      "source": [
        "word_index = keras.datasets.imdb.get_word_index()\n",
        "\n",
        "word_index = {k:v+3 for k, v in word_index.items()}\n",
        "word_index[\"<PAD>\"] = 0\n",
        "word_index[\"<START>\"] = 1\n",
        "word_index[\"<UNK>\"] = 2\n",
        "word_index[\"<UNUSED>\"] = 3\n",
        "\n",
        "reversed_word_index = {v:k for k, v in word_index.items()}"
      ],
      "execution_count": 0,
      "outputs": []
    },
    {
      "cell_type": "code",
      "metadata": {
        "id": "0f-i4VdFLqJj",
        "colab_type": "code",
        "colab": {}
      },
      "source": [
        "vocab_size=10000\n",
        "\n",
        "model = keras.Sequential()\n",
        "model.add(keras.layers.Embedding(vocab_size, 16))\n",
        "model.add(keras.layers.GlobalAveragePooling1D())\n",
        "model.add(keras.layers.Dense(16, activation='relu'))\n",
        "model.add(keras.layers.Dense(1, activation='sigmoid'))\n",
        "\n",
        "model.compile(loss='binary_crossentropy', optimizer='adam', metrics=['acc'])"
      ],
      "execution_count": 0,
      "outputs": []
    },
    {
      "cell_type": "code",
      "metadata": {
        "id": "nlLYOcCNOoRt",
        "colab_type": "code",
        "colab": {}
      },
      "source": [
        "train_data = keras.preprocessing.sequence.pad_sequences(train_data, value=word_index[\"<PAD>\"], maxlen=256, dtype='int32', padding='post')\n",
        "test_data = keras.preprocessing.sequence.pad_sequences(test_data, value=word_index[\"<PAD>\"], maxlen=256, dtype='int32', padding='post')"
      ],
      "execution_count": 0,
      "outputs": []
    },
    {
      "cell_type": "code",
      "metadata": {
        "id": "2e37ZrNTP_B6",
        "colab_type": "code",
        "colab": {
          "base_uri": "https://localhost:8080/",
          "height": 289
        },
        "outputId": "9c261dc1-63b9-46ba-a57d-8e54c413e8ab"
      },
      "source": [
        "model.summary()"
      ],
      "execution_count": 188,
      "outputs": [
        {
          "output_type": "stream",
          "text": [
            "Model: \"sequential_4\"\n",
            "_________________________________________________________________\n",
            "Layer (type)                 Output Shape              Param #   \n",
            "=================================================================\n",
            "embedding_3 (Embedding)      (None, None, 16)          160000    \n",
            "_________________________________________________________________\n",
            "global_average_pooling1d_3 ( (None, 16)                0         \n",
            "_________________________________________________________________\n",
            "dense_6 (Dense)              (None, 16)                272       \n",
            "_________________________________________________________________\n",
            "dense_7 (Dense)              (None, 1)                 17        \n",
            "=================================================================\n",
            "Total params: 160,289\n",
            "Trainable params: 160,289\n",
            "Non-trainable params: 0\n",
            "_________________________________________________________________\n"
          ],
          "name": "stdout"
        }
      ]
    },
    {
      "cell_type": "code",
      "metadata": {
        "id": "Ej2m0M6PQCy7",
        "colab_type": "code",
        "colab": {}
      },
      "source": [
        "x_val = train_data[:10000]\n",
        "x = train_data[10000:]\n",
        "y_val = train_label[:10000]\n",
        "y = train_label[10000:]"
      ],
      "execution_count": 0,
      "outputs": []
    },
    {
      "cell_type": "code",
      "metadata": {
        "id": "ou5_4DZyQmeR",
        "colab_type": "code",
        "colab": {
          "base_uri": "https://localhost:8080/",
          "height": 1000
        },
        "outputId": "bd61606e-23bc-473a-91fa-a8af7ed2ce2c"
      },
      "source": [
        "history = model.fit(x, y, epochs=30, batch_size=1024, validation_data=[x_val, y_val], verbose=1)"
      ],
      "execution_count": 190,
      "outputs": [
        {
          "output_type": "stream",
          "text": [
            "Train on 15000 samples, validate on 10000 samples\n",
            "Epoch 1/30\n",
            "15000/15000 [==============================] - 1s 65us/sample - loss: 0.6927 - acc: 0.5244 - val_loss: 0.6920 - val_acc: 0.5466\n",
            "Epoch 2/30\n",
            "15000/15000 [==============================] - 1s 55us/sample - loss: 0.6909 - acc: 0.6211 - val_loss: 0.6899 - val_acc: 0.6574\n",
            "Epoch 3/30\n",
            "15000/15000 [==============================] - 1s 51us/sample - loss: 0.6881 - acc: 0.6907 - val_loss: 0.6867 - val_acc: 0.6988\n",
            "Epoch 4/30\n",
            "15000/15000 [==============================] - 1s 52us/sample - loss: 0.6840 - acc: 0.6971 - val_loss: 0.6820 - val_acc: 0.7068\n",
            "Epoch 5/30\n",
            "15000/15000 [==============================] - 1s 52us/sample - loss: 0.6779 - acc: 0.7236 - val_loss: 0.6753 - val_acc: 0.7093\n",
            "Epoch 6/30\n",
            "15000/15000 [==============================] - 1s 51us/sample - loss: 0.6696 - acc: 0.7240 - val_loss: 0.6663 - val_acc: 0.7194\n",
            "Epoch 7/30\n",
            "15000/15000 [==============================] - 1s 53us/sample - loss: 0.6587 - acc: 0.7339 - val_loss: 0.6547 - val_acc: 0.7235\n",
            "Epoch 8/30\n",
            "15000/15000 [==============================] - 1s 52us/sample - loss: 0.6452 - acc: 0.7355 - val_loss: 0.6411 - val_acc: 0.7368\n",
            "Epoch 9/30\n",
            "15000/15000 [==============================] - 1s 51us/sample - loss: 0.6291 - acc: 0.7525 - val_loss: 0.6249 - val_acc: 0.7428\n",
            "Epoch 10/30\n",
            "15000/15000 [==============================] - 1s 51us/sample - loss: 0.6111 - acc: 0.7605 - val_loss: 0.6073 - val_acc: 0.7577\n",
            "Epoch 11/30\n",
            "15000/15000 [==============================] - 1s 52us/sample - loss: 0.5912 - acc: 0.7715 - val_loss: 0.5881 - val_acc: 0.7683\n",
            "Epoch 12/30\n",
            "15000/15000 [==============================] - 1s 52us/sample - loss: 0.5702 - acc: 0.7817 - val_loss: 0.5682 - val_acc: 0.7792\n",
            "Epoch 13/30\n",
            "15000/15000 [==============================] - 1s 51us/sample - loss: 0.5489 - acc: 0.7939 - val_loss: 0.5482 - val_acc: 0.7922\n",
            "Epoch 14/30\n",
            "15000/15000 [==============================] - 1s 53us/sample - loss: 0.5275 - acc: 0.8042 - val_loss: 0.5275 - val_acc: 0.7943\n",
            "Epoch 15/30\n",
            "15000/15000 [==============================] - 1s 51us/sample - loss: 0.5059 - acc: 0.8165 - val_loss: 0.5079 - val_acc: 0.8044\n",
            "Epoch 16/30\n",
            "15000/15000 [==============================] - 1s 53us/sample - loss: 0.4855 - acc: 0.8250 - val_loss: 0.4890 - val_acc: 0.8134\n",
            "Epoch 17/30\n",
            "15000/15000 [==============================] - 1s 51us/sample - loss: 0.4663 - acc: 0.8321 - val_loss: 0.4722 - val_acc: 0.8157\n",
            "Epoch 18/30\n",
            "15000/15000 [==============================] - 1s 52us/sample - loss: 0.4487 - acc: 0.8351 - val_loss: 0.4557 - val_acc: 0.8238\n",
            "Epoch 19/30\n",
            "15000/15000 [==============================] - 1s 51us/sample - loss: 0.4321 - acc: 0.8425 - val_loss: 0.4415 - val_acc: 0.8275\n",
            "Epoch 20/30\n",
            "15000/15000 [==============================] - 1s 52us/sample - loss: 0.4175 - acc: 0.8463 - val_loss: 0.4287 - val_acc: 0.8325\n",
            "Epoch 21/30\n",
            "15000/15000 [==============================] - 1s 52us/sample - loss: 0.4039 - acc: 0.8501 - val_loss: 0.4175 - val_acc: 0.8366\n",
            "Epoch 22/30\n",
            "15000/15000 [==============================] - 1s 53us/sample - loss: 0.3920 - acc: 0.8532 - val_loss: 0.4074 - val_acc: 0.8391\n",
            "Epoch 23/30\n",
            "15000/15000 [==============================] - 1s 51us/sample - loss: 0.3808 - acc: 0.8583 - val_loss: 0.3986 - val_acc: 0.8390\n",
            "Epoch 24/30\n",
            "15000/15000 [==============================] - 1s 51us/sample - loss: 0.3711 - acc: 0.8615 - val_loss: 0.3904 - val_acc: 0.8424\n",
            "Epoch 25/30\n",
            "15000/15000 [==============================] - 1s 51us/sample - loss: 0.3621 - acc: 0.8646 - val_loss: 0.3833 - val_acc: 0.8468\n",
            "Epoch 26/30\n",
            "15000/15000 [==============================] - 1s 51us/sample - loss: 0.3539 - acc: 0.8671 - val_loss: 0.3768 - val_acc: 0.8469\n",
            "Epoch 27/30\n",
            "15000/15000 [==============================] - 1s 52us/sample - loss: 0.3464 - acc: 0.8689 - val_loss: 0.3716 - val_acc: 0.8468\n",
            "Epoch 28/30\n",
            "15000/15000 [==============================] - 1s 51us/sample - loss: 0.3394 - acc: 0.8721 - val_loss: 0.3660 - val_acc: 0.8497\n",
            "Epoch 29/30\n",
            "15000/15000 [==============================] - 1s 51us/sample - loss: 0.3332 - acc: 0.8733 - val_loss: 0.3620 - val_acc: 0.8541\n",
            "Epoch 30/30\n",
            "15000/15000 [==============================] - 1s 53us/sample - loss: 0.3278 - acc: 0.8737 - val_loss: 0.3575 - val_acc: 0.8547\n"
          ],
          "name": "stdout"
        }
      ]
    },
    {
      "cell_type": "code",
      "metadata": {
        "id": "0qsL6PX5Q7WZ",
        "colab_type": "code",
        "colab": {
          "base_uri": "https://localhost:8080/",
          "height": 34
        },
        "outputId": "c4b3b6d7-0add-4fea-f440-5251275c9569"
      },
      "source": [
        "history_dic = history.history\n",
        "history_dic.keys()"
      ],
      "execution_count": 191,
      "outputs": [
        {
          "output_type": "execute_result",
          "data": {
            "text/plain": [
              "dict_keys(['loss', 'acc', 'val_loss', 'val_acc'])"
            ]
          },
          "metadata": {
            "tags": []
          },
          "execution_count": 191
        }
      ]
    },
    {
      "cell_type": "code",
      "metadata": {
        "id": "zZOv4WpLR-qO",
        "colab_type": "code",
        "colab": {
          "base_uri": "https://localhost:8080/",
          "height": 283
        },
        "outputId": "23607e50-16d8-4a7c-c302-6b995ae1fb7e"
      },
      "source": [
        "%matplotlib inline\n",
        "plt.clf()\n",
        "\n",
        "epochs = range(1, len(history_dic[\"acc\"])+1)\n",
        "\n",
        "plt.plot(epochs, history_dic[\"loss\"], 'b', label='Training Loss')\n",
        "plt.plot(epochs, history_dic[\"val_loss\"], 'r', label='Test Loss')\n",
        "\n",
        "plt.xlabel('epochs')\n",
        "plt.ylabel('loss')\n",
        "plt.legend()\n",
        "plt.show()"
      ],
      "execution_count": 192,
      "outputs": [
        {
          "output_type": "display_data",
          "data": {
            "image/png": "[encoded data removed]",
            "text/plain": [
              "<Figure size 432x288 with 1 Axes>"
            ]
          },
          "metadata": {
            "tags": []
          }
        }
      ]
    },
    {
      "cell_type": "code",
      "metadata": {
        "id": "KRdqmawwWA5U",
        "colab_type": "code",
        "colab": {
          "base_uri": "https://localhost:8080/",
          "height": 34
        },
        "outputId": "56f4d49d-253e-4045-b18d-6203d9d27de5"
      },
      "source": [
        "results = model.evaluate(test_data, test_label)"
      ],
      "execution_count": 193,
      "outputs": [
        {
          "output_type": "stream",
          "text": [
            "25000/25000 [==============================] - 1s 39us/sample - loss: 0.3560 - acc: 0.8525\n"
          ],
          "name": "stdout"
        }
      ]
    },
    {
      "cell_type": "code",
      "metadata": {
        "id": "vW_MBl0NWO_9",
        "colab_type": "code",
        "colab": {
          "base_uri": "https://localhost:8080/",
          "height": 34
        },
        "outputId": "66acfe37-466f-4394-f103-415258a2cb43"
      },
      "source": [
        "print(\"% Accuracy on test data:\", results[1]*100)"
      ],
      "execution_count": 194,
      "outputs": [
        {
          "output_type": "stream",
          "text": [
            "% Accuracy on test data: 85.24799942970276\n"
          ],
          "name": "stdout"
        }
      ]
    },
    {
      "cell_type": "code",
      "metadata": {
        "id": "oZ12ZJnbYt-g",
        "colab_type": "code",
        "colab": {}
      },
      "source": [
        "tknzr = TweetTokenizer()\n",
        "\n",
        "def encode_review(tokenized_text):\n",
        "    nums = np.array([word_index.get(word) for word in tokenized_text])\n",
        "    for i in range(nums.shape[0]):\n",
        "        if nums[i]:\n",
        "            continue\n",
        "        else:\n",
        "            nums[i] = 2\n",
        "    return nums"
      ],
      "execution_count": 0,
      "outputs": []
    },
    {
      "cell_type": "code",
      "metadata": {
        "id": "yb4eys2ETUaO",
        "colab_type": "code",
        "colab": {
          "base_uri": "https://localhost:8080/",
          "height": 34
        },
        "outputId": "b7a57bf2-944c-4e02-c495-7357d66e53d0"
      },
      "source": [
        "#@title Add movie review (Kabir Singh) { run: \"auto\", vertical-output: true, display-mode: \"form\" }\n",
        "review = \"The movie was awesome\" #@param {type:\"string\"}\n",
        "tokenized_review = tknzr.tokenize(review)\n",
        "review = encode_review(tokenized_text=tokenized_review)\n",
        "padded_review = np.pad(review, (1,255-review.shape[0]), 'constant', constant_values=(1,0))\n",
        "padded_review = np.expand_dims(padded_review, axis=0)\n",
        "\n",
        "predictions = model.predict(padded_review)\n",
        "if predictions[0][0] > 0.5:\n",
        "    print(\"That is a positive review\")\n",
        "else:\n",
        "    print(\"That is a negative review\")"
      ],
      "execution_count": 196,
      "outputs": [
        {
          "output_type": "stream",
          "text": [
            "That is a positive review\n"
          ],
          "name": "stdout"
        }
      ]
    }
  ]
}