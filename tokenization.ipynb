{
  "nbformat": 4,
  "nbformat_minor": 0,
  "metadata": {
    "colab": {
      "name": "tokenization.ipynb",
      "version": "0.3.2",
      "provenance": [],
      "collapsed_sections": [],
      "include_colab_link": true
    },
    "kernelspec": {
      "display_name": "Python 3",
      "language": "python",
      "name": "python3"
    }
  },
  "cells": [
    {
      "cell_type": "markdown",
      "metadata": {
        "id": "view-in-github",
        "colab_type": "text"
      },
      "source": [
        "<a href=\"https://colab.research.google.com/github/shravankumar9892/tokenization/blob/master/tokenization.ipynb\" target=\"_parent\"><img src=\"https://colab.research.google.com/assets/colab-badge.svg\" alt=\"Open In Colab\"/></a>"
      ]
    },
    {
      "metadata": {
        "id": "UGoh_zqO4oXI",
        "colab_type": "text"
      },
      "cell_type": "markdown",
      "source": [
        "# Tokeniztion\n",
        "\n",
        "***According to Wikipedia:***\n",
        "     Tokenization is the process of breaking a stream of text up into words, phrases, symbols, or other meaningful elements called tokens. The list of tokens becomes input for further processing such as [parsing](https://en.wikipedia.org/wiki/Parsing) or [text mining](https://en.wikipedia.org/wiki/Text_mining). Tokenization is useful both in linguistics (where it is a form of text segmentation), and in computer science, where it forms part of lexical analysis\n",
        "     \n",
        "**For more details:** [IBM](https://www.ibm.com/developerworks/community/blogs/nlp/entry/tokenization?lang=en)     "
      ]
    },
    {
      "metadata": {
        "id": "DA6H56LEh31a",
        "colab_type": "code",
        "colab": {
          "base_uri": "https://localhost:8080/",
          "height": 187
        },
        "outputId": "42f02ea1-166b-4896-ce35-22cc7186a761"
      },
      "cell_type": "code",
      "source": [
        "import nltk\n",
        "import collections\n",
        "import unicodedata\n",
        "\n",
        "# Downloads\n",
        "nltk.download('state_union')\n",
        "nltk.download('punkt')\n",
        "nltk.download('stopwords')\n",
        "nltk.download('averaged_perceptron_tagger')"
      ],
      "execution_count": 23,
      "outputs": [
        {
          "output_type": "stream",
          "text": [
            "[nltk_data] Downloading package state_union to /root/nltk_data...\n",
            "[nltk_data]   Package state_union is already up-to-date!\n",
            "[nltk_data] Downloading package punkt to /root/nltk_data...\n",
            "[nltk_data]   Package punkt is already up-to-date!\n",
            "[nltk_data] Downloading package stopwords to /root/nltk_data...\n",
            "[nltk_data]   Package stopwords is already up-to-date!\n",
            "[nltk_data] Downloading package averaged_perceptron_tagger to\n",
            "[nltk_data]     /root/nltk_data...\n",
            "[nltk_data]   Unzipping taggers/averaged_perceptron_tagger.zip.\n"
          ],
          "name": "stdout"
        },
        {
          "output_type": "execute_result",
          "data": {
            "text/plain": [
              "True"
            ]
          },
          "metadata": {
            "tags": []
          },
          "execution_count": 23
        }
      ]
    },
    {
      "metadata": {
        "id": "UZFsKl1B4oXR",
        "colab_type": "code",
        "colab": {}
      },
      "cell_type": "code",
      "source": [
        "#@title Encoding/Decoding { run: \"auto\", display-mode: \"form\" }\n",
        "from_ = \"unicode\" #@param {type:\"string\"}\n",
        "to_ = \"text\" #@param {type:\"string\"}\n",
        "text = \"\" #@param {type:\"string\"}\n",
        "\n",
        "\n",
        "''' Cell Documentation'''\n",
        "\n",
        "# >  Text is assumed to be in utf-8\n",
        "#    Compatible for Python3\n",
        "\n",
        "# >  Returns text encoded in a way suitable \n",
        "#    for print or `tf.logging`\n",
        "\n",
        "# >  The isinstance() function checks if the object (first argument) \n",
        "#    is an instance or subclass of classinfo class (second argument)\n",
        "\n",
        "\n",
        "def unicode_text(string = text, a = from_, b = to_):\n",
        "    if a == b:\n",
        "      return string\n",
        "    else:\n",
        "        if (isinstance(string, str) and b == \"text\") and (not isinstance(string, str) and b != \"text\"):\n",
        "            return string\n",
        "        elif not isinstance(string, str) and b == \"text\":\n",
        "            return string.decode(encoding = \"utf-8\", errors = \"ignore\")\n",
        "        elif isinstance(string, str) and b != \"text\":\n",
        "            return (string.encode('utf-8','strict')).decode('UTF-8')\n",
        "        else:\n",
        "            raise ValueError(\"Unsupported string type: %s\" % (type(text)))"
      ],
      "execution_count": 0,
      "outputs": []
    },
    {
      "metadata": {
        "id": "l8PRfF3TMfiC",
        "colab_type": "code",
        "outputId": "335d5e41-7ba0-4baf-88bb-32adc01b5280",
        "colab": {
          "base_uri": "https://localhost:8080/",
          "height": 51
        }
      },
      "cell_type": "code",
      "source": [
        "#@title Filterization with nltk { run: \"auto\", display-mode: \"form\" }\n",
        "text = \"Hi Shravan, an important person\"\n",
        "#@markdown \n",
        "text = \"I am trying to learn NLP, and I am finding it interesting.\" #@param {type:\"string\"}\n",
        "\n",
        "import nltk\n",
        "from nltk.corpus import stopwords\n",
        "from nltk.tokenize import word_tokenize\n",
        "\n",
        "# First timers, download 'stopwords' and 'punkt'\n",
        "# nltk.download(\"stopwords\")\n",
        "# nltk.download('punkt')\n",
        "\n",
        "stop_words = set(stopwords.words(\"english\"))\n",
        "\n",
        "def filterize(string):\n",
        "      return [words for words in word_tokenize(string) if not words in stop_words]\n",
        "\n",
        "# For output check this: \n",
        "print(\"Output: \")\n",
        "print(*filterize(text))"
      ],
      "execution_count": 15,
      "outputs": [
        {
          "output_type": "stream",
          "text": [
            "Output: \n",
            "I trying learn NLP , I finding interesting .\n"
          ],
          "name": "stdout"
        }
      ]
    },
    {
      "metadata": {
        "id": "L_NWeppSXNiO",
        "colab_type": "code",
        "outputId": "d22407d2-22c6-4c09-82c6-7c1c90cc3beb",
        "colab": {
          "base_uri": "https://localhost:8080/",
          "height": 34
        }
      },
      "cell_type": "code",
      "source": [
        "#@title Stemming { run: \"auto\", display-mode: \"form\" }\n",
        "#@markdown **Stemming** is the process of reducing inflected words to their word stem, base or root form—generally a written word form.\n",
        "\n",
        "from nltk.stem import PorterStemmer\n",
        "from nltk.tokenize import word_tokenize\n",
        "\n",
        "object = PorterStemmer()\n",
        "text = \"I'm a pythoner\" #@param {type:\"string\"}\n",
        "\n",
        "print(\"Output: \"+ str(object.stem(text)))"
      ],
      "execution_count": 0,
      "outputs": [
        {
          "output_type": "stream",
          "text": [
            "Output: i'm a python\n"
          ],
          "name": "stdout"
        }
      ]
    },
    {
      "metadata": {
        "id": "3aLUgoJC6l11",
        "colab_type": "code",
        "colab": {
          "base_uri": "https://localhost:8080/",
          "height": 119
        },
        "cellView": "form",
        "outputId": "aea28770-81fd-422b-ecba-e3d396695f2a"
      },
      "cell_type": "code",
      "source": [
        "#@title Part of Speech Tagging { run: \"auto\" }\n",
        "\n",
        "import nltk\n",
        "from nltk.corpus import state_union\n",
        "from nltk.tokenize import PunktSentenceTokenizer\n",
        "\n",
        "''' Read comments for smart Sentence Tokenizer'''\n",
        "#train = state_union.raw(\"2005-GWBush.txt\")\n",
        "#sample = state_union.raw(\"2006-GWBush.txt\")\n",
        "# PunktSentenceTokenizer can be first trained and then used.\n",
        "#custom_tokenizer = PunktSentenceTokenizer(train)\n",
        "#tokenized = custom_tokenizer.tokenize(sample)\n",
        "\n",
        "# First timers, download this...\n",
        "# nltk.download('averaged_perceptron_tagger')\n",
        "\n",
        "text = \"Hi Shravan how are you?\" #@param {type:\"string\"}\n",
        "words = nltk.word_tokenize(text)\n",
        "tagged = nltk.pos_tag(words)  # Creates Tuple of (word, part of speech)\n",
        "\n",
        "tagged\n"
      ],
      "execution_count": 36,
      "outputs": [
        {
          "output_type": "execute_result",
          "data": {
            "text/plain": [
              "[('Hi', 'NNP'),\n",
              " ('Shravan', 'NNP'),\n",
              " ('how', 'WRB'),\n",
              " ('are', 'VBP'),\n",
              " ('you', 'PRP'),\n",
              " ('?', '.')]"
            ]
          },
          "metadata": {
            "tags": []
          },
          "execution_count": 36
        }
      ]
    },
    {
      "metadata": {
        "id": "LKWka1SGaYLh",
        "colab_type": "code",
        "outputId": "2483928e-77d4-454d-c5f4-33e3d7c42e12",
        "colab": {
          "base_uri": "https://localhost:8080/",
          "height": 68
        }
      },
      "cell_type": "code",
      "source": [
        "#@title Chunking { run: \"auto\", display-mode: \"form\" }\n",
        "#@markdown **Chunking** is a term referring to the process of taking individual pieces of information (chunks) and grouping them into larger units. By grouping each piece into a large whole, you can improve the amount of information you can remember.\n",
        "\n",
        "import nltk\n",
        "from nltk.corpus import state_union\n",
        "from nltk.tokenize import PunktSentenceTokenizer\n",
        "\n",
        "# First timers, download this...\n",
        "# nltk.download(\"stateunion\")\n",
        "\n"
      ],
      "execution_count": 0,
      "outputs": [
        {
          "output_type": "stream",
          "text": [
            "[nltk_data] Error loading stateunion: Package 'stateunion' not found\n",
            "[nltk_data]     in index\n"
          ],
          "name": "stdout"
        },
        {
          "output_type": "execute_result",
          "data": {
            "text/plain": [
              "False"
            ]
          },
          "metadata": {
            "tags": []
          },
          "execution_count": 57
        }
      ]
    }
  ]
}